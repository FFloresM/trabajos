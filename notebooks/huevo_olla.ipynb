{
 "cells": [
  {
   "cell_type": "code",
   "execution_count": 27,
   "metadata": {},
   "outputs": [],
   "source": [
    "def validar(inf, sup):\n",
    "    while 1:\n",
    "        val = int(input(\"ingrese valor: \"))\n",
    "        if val >= inf and val <=sup:\n",
    "            return val\n",
    "        elif val == 0:\n",
    "            return 0\n"
   ]
  },
  {
   "cell_type": "code",
   "execution_count": 42,
   "metadata": {},
   "outputs": [
    {
     "name": "stdout",
     "output_type": "stream",
     "text": [
      "ingrese valor: 4\n",
      "ingrese valor: 5\n",
      "ingrese valor: 5\n",
      "ingrese valor: 5\n",
      "ingrese valor: 16\n",
      "ingrese valor: 5\n",
      "ingrese valor: 0\n",
      "ingrese valor: 0\n",
      "10\n",
      "10\n",
      "40\n"
     ]
    }
   ],
   "source": [
    "lh = []\n",
    "lc = []\n",
    "while 1:\n",
    "    h = validar(1,10000)\n",
    "    c = validar(1,1000)\n",
    "    if h == 0 and c ==0:\n",
    "        break\n",
    "    lh.append(h)\n",
    "    lc.append(c)\n",
    "\n",
    "\n",
    "for i in range(len(lc)):\n",
    "    s=0\n",
    "    h=lh[i]\n",
    "    c=lc[i]\n",
    "    if h<=c:\n",
    "        s=10\n",
    "    n= h//c\n",
    "    m= h%c\n",
    "    if m!=0:\n",
    "         s= n*10+10\n",
    "    else:\n",
    "        s= n*10\n",
    "    print(s)\n",
    "      \n",
    "\n"
   ]
  },
  {
   "cell_type": "code",
   "execution_count": 43,
   "metadata": {},
   "outputs": [
    {
     "name": "stdout",
     "output_type": "stream",
     "text": [
      "nike 34\n"
     ]
    },
    {
     "data": {
      "text/plain": [
       "'nike 34'"
      ]
     },
     "execution_count": 43,
     "metadata": {},
     "output_type": "execute_result"
    }
   ],
   "source": [
    "input()"
   ]
  },
  {
   "cell_type": "code",
   "execution_count": 46,
   "metadata": {},
   "outputs": [],
   "source": [
    "dicc = {'canela': 12, 'tetera': 7, 'nena': 1}"
   ]
  },
  {
   "cell_type": "code",
   "execution_count": 49,
   "metadata": {},
   "outputs": [],
   "source": [
    "dicc['pancho'] = 20"
   ]
  },
  {
   "cell_type": "code",
   "execution_count": 52,
   "metadata": {},
   "outputs": [
    {
     "data": {
      "text/plain": [
       "dict_keys(['canela', 'tetera', 'nena', 'pancho'])"
      ]
     },
     "execution_count": 52,
     "metadata": {},
     "output_type": "execute_result"
    }
   ],
   "source": [
    "dicc.keys()"
   ]
  },
  {
   "cell_type": "code",
   "execution_count": 53,
   "metadata": {},
   "outputs": [
    {
     "name": "stdout",
     "output_type": "stream",
     "text": [
      "b\n",
      "u\n",
      "e\n",
      "n\n",
      "a\n",
      "s\n",
      " \n",
      "t\n",
      "a\n",
      "r\n",
      "d\n",
      "e\n",
      "s\n"
     ]
    }
   ],
   "source": [
    "saludo = \"buenas tardes\"\n",
    "for i in saludo:\n",
    "    print(i)"
   ]
  },
  {
   "cell_type": "code",
   "execution_count": 56,
   "metadata": {},
   "outputs": [],
   "source": [
    "def f():\n",
    "    while 1:\n",
    "        x = input()\n",
    "        for i in range(len(x)):\n",
    "            if x[i] not in ['I','V','X','L']:\n",
    "                break\n",
    "            if x[i] == x[-1]:\n",
    "                return x\n"
   ]
  },
  {
   "cell_type": "code",
   "execution_count": 60,
   "metadata": {},
   "outputs": [
    {
     "name": "stdout",
     "output_type": "stream",
     "text": [
      "XII\n"
     ]
    },
    {
     "data": {
      "text/plain": [
       "'XII'"
      ]
     },
     "execution_count": 60,
     "metadata": {},
     "output_type": "execute_result"
    }
   ],
   "source": [
    "f()"
   ]
  }
 ],
 "metadata": {
  "kernelspec": {
   "display_name": "Python 3",
   "language": "python",
   "name": "python3"
  },
  "language_info": {
   "codemirror_mode": {
    "name": "ipython",
    "version": 3
   },
   "file_extension": ".py",
   "mimetype": "text/x-python",
   "name": "python",
   "nbconvert_exporter": "python",
   "pygments_lexer": "ipython3",
   "version": "3.6.7"
  }
 },
 "nbformat": 4,
 "nbformat_minor": 2
}
