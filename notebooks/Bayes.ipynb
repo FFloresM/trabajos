{
 "cells": [
  {
   "cell_type": "markdown",
   "metadata": {},
   "source": [
    "### Descripción Naive bayes\n",
    "Naive Bayes es un clasificardor probabilístico basado en el teorema de Bayes. Esto quiere decir que las features son independientes entre sí: La presencia o ausencia de una feature no depende de la existencis o ausencia de otra. Esto es cada feature contribuye de manera independiente a la probabilidad de éxito.  \n",
    "Se asume entonces   \n",
    "$p(C|f_1, f_2, ... , f_n)$ como la probabilidad de la clase $C$ dadas las features $f_1, f_2, ..., f_n$"
   ]
  },
  {
   "cell_type": "code",
   "execution_count": 27,
   "metadata": {},
   "outputs": [],
   "source": [
    "import pandas as pd\n",
    "import numpy as np\n",
    "from sklearn.naive_bayes import GaussianNB\n",
    "from sklearn.model_selection import train_test_split\n",
    "from sklearn.metrics import accuracy_score\n",
    "from itertools import combinations"
   ]
  },
  {
   "cell_type": "code",
   "execution_count": 4,
   "metadata": {},
   "outputs": [],
   "source": [
    "data = pd.read_csv('cleanData.csv')"
   ]
  },
  {
   "cell_type": "code",
   "execution_count": 5,
   "metadata": {},
   "outputs": [
    {
     "data": {
      "text/html": [
       "<div>\n",
       "<style scoped>\n",
       "    .dataframe tbody tr th:only-of-type {\n",
       "        vertical-align: middle;\n",
       "    }\n",
       "\n",
       "    .dataframe tbody tr th {\n",
       "        vertical-align: top;\n",
       "    }\n",
       "\n",
       "    .dataframe thead th {\n",
       "        text-align: right;\n",
       "    }\n",
       "</style>\n",
       "<table border=\"1\" class=\"dataframe\">\n",
       "  <thead>\n",
       "    <tr style=\"text-align: right;\">\n",
       "      <th></th>\n",
       "      <th>albedo</th>\n",
       "      <th>H</th>\n",
       "      <th>moid</th>\n",
       "      <th>e</th>\n",
       "      <th>Danger</th>\n",
       "    </tr>\n",
       "  </thead>\n",
       "  <tbody>\n",
       "    <tr>\n",
       "      <th>0</th>\n",
       "      <td>0.242242</td>\n",
       "      <td>0.450549</td>\n",
       "      <td>0.045179</td>\n",
       "      <td>0.099628</td>\n",
       "      <td>1.0</td>\n",
       "    </tr>\n",
       "    <tr>\n",
       "      <th>1</th>\n",
       "      <td>0.060060</td>\n",
       "      <td>0.433643</td>\n",
       "      <td>0.047057</td>\n",
       "      <td>0.104636</td>\n",
       "      <td>1.0</td>\n",
       "    </tr>\n",
       "    <tr>\n",
       "      <th>2</th>\n",
       "      <td>0.027027</td>\n",
       "      <td>0.509721</td>\n",
       "      <td>0.048601</td>\n",
       "      <td>0.118209</td>\n",
       "      <td>1.0</td>\n",
       "    </tr>\n",
       "    <tr>\n",
       "      <th>3</th>\n",
       "      <td>0.135135</td>\n",
       "      <td>0.454776</td>\n",
       "      <td>0.049133</td>\n",
       "      <td>0.064409</td>\n",
       "      <td>1.0</td>\n",
       "    </tr>\n",
       "    <tr>\n",
       "      <th>4</th>\n",
       "      <td>0.045045</td>\n",
       "      <td>0.513948</td>\n",
       "      <td>0.043814</td>\n",
       "      <td>0.106963</td>\n",
       "      <td>1.0</td>\n",
       "    </tr>\n",
       "    <tr>\n",
       "      <th>...</th>\n",
       "      <td>...</td>\n",
       "      <td>...</td>\n",
       "      <td>...</td>\n",
       "      <td>...</td>\n",
       "      <td>...</td>\n",
       "    </tr>\n",
       "    <tr>\n",
       "      <th>98483</th>\n",
       "      <td>0.108108</td>\n",
       "      <td>0.522401</td>\n",
       "      <td>0.033634</td>\n",
       "      <td>0.138316</td>\n",
       "      <td>1.0</td>\n",
       "    </tr>\n",
       "    <tr>\n",
       "      <th>98484</th>\n",
       "      <td>0.255255</td>\n",
       "      <td>0.425190</td>\n",
       "      <td>0.043556</td>\n",
       "      <td>0.100651</td>\n",
       "      <td>1.0</td>\n",
       "    </tr>\n",
       "    <tr>\n",
       "      <th>98485</th>\n",
       "      <td>0.022022</td>\n",
       "      <td>0.556213</td>\n",
       "      <td>0.048422</td>\n",
       "      <td>0.046987</td>\n",
       "      <td>1.0</td>\n",
       "    </tr>\n",
       "    <tr>\n",
       "      <th>98486</th>\n",
       "      <td>0.032032</td>\n",
       "      <td>0.518174</td>\n",
       "      <td>0.042914</td>\n",
       "      <td>0.192436</td>\n",
       "      <td>1.0</td>\n",
       "    </tr>\n",
       "    <tr>\n",
       "      <th>98487</th>\n",
       "      <td>0.069069</td>\n",
       "      <td>0.429417</td>\n",
       "      <td>0.042190</td>\n",
       "      <td>0.164925</td>\n",
       "      <td>1.0</td>\n",
       "    </tr>\n",
       "  </tbody>\n",
       "</table>\n",
       "<p>98488 rows × 5 columns</p>\n",
       "</div>"
      ],
      "text/plain": [
       "         albedo         H      moid         e  Danger\n",
       "0      0.242242  0.450549  0.045179  0.099628     1.0\n",
       "1      0.060060  0.433643  0.047057  0.104636     1.0\n",
       "2      0.027027  0.509721  0.048601  0.118209     1.0\n",
       "3      0.135135  0.454776  0.049133  0.064409     1.0\n",
       "4      0.045045  0.513948  0.043814  0.106963     1.0\n",
       "...         ...       ...       ...       ...     ...\n",
       "98483  0.108108  0.522401  0.033634  0.138316     1.0\n",
       "98484  0.255255  0.425190  0.043556  0.100651     1.0\n",
       "98485  0.022022  0.556213  0.048422  0.046987     1.0\n",
       "98486  0.032032  0.518174  0.042914  0.192436     1.0\n",
       "98487  0.069069  0.429417  0.042190  0.164925     1.0\n",
       "\n",
       "[98488 rows x 5 columns]"
      ]
     },
     "execution_count": 5,
     "metadata": {},
     "output_type": "execute_result"
    }
   ],
   "source": [
    "data"
   ]
  },
  {
   "cell_type": "code",
   "execution_count": 35,
   "metadata": {},
   "outputs": [],
   "source": [
    "X_comb = []\n",
    "for i in range(1,5):\n",
    "     for x in combinations(['H', 'albedo', 'moid', 'e'], i):\n",
    "            X_comb.append(list(x))"
   ]
  },
  {
   "cell_type": "code",
   "execution_count": 36,
   "metadata": {},
   "outputs": [
    {
     "name": "stdout",
     "output_type": "stream",
     "text": [
      "['H']\n",
      "['albedo']\n",
      "['moid']\n",
      "['e']\n",
      "['H', 'albedo']\n",
      "['H', 'moid']\n",
      "['H', 'e']\n",
      "['albedo', 'moid']\n",
      "['albedo', 'e']\n",
      "['moid', 'e']\n",
      "['H', 'albedo', 'moid']\n",
      "['H', 'albedo', 'e']\n",
      "['H', 'moid', 'e']\n",
      "['albedo', 'moid', 'e']\n",
      "['H', 'albedo', 'moid', 'e']\n"
     ]
    }
   ],
   "source": [
    "for i in X_comb:\n",
    "    print(i)"
   ]
  },
  {
   "cell_type": "code",
   "execution_count": 37,
   "metadata": {},
   "outputs": [],
   "source": [
    "y = data['Danger']\n",
    "clf = GaussianNB()\n",
    "score = []\n",
    "for x in X_comb:\n",
    "    X = data[x]\n",
    "    X_train, X_test, y_train, y_test = train_test_split(X, y, test_size=0.33, random_state=42)\n",
    "    clf.fit(X_train, y_train)\n",
    "    y_pred = clf.predict(X_test)\n",
    "    score.append(accuracy_score(y_test, y_pred))"
   ]
  },
  {
   "cell_type": "code",
   "execution_count": 41,
   "metadata": {},
   "outputs": [],
   "source": [
    "mejor = score.index(max(score))"
   ]
  },
  {
   "cell_type": "code",
   "execution_count": 42,
   "metadata": {},
   "outputs": [
    {
     "data": {
      "text/plain": [
       "['H', 'albedo', 'moid']"
      ]
     },
     "execution_count": 42,
     "metadata": {},
     "output_type": "execute_result"
    }
   ],
   "source": [
    "#features con mayor accuracy\n",
    "X_comb[mejor]"
   ]
  }
 ],
 "metadata": {
  "kernelspec": {
   "display_name": "Python 3",
   "language": "python",
   "name": "python3"
  },
  "language_info": {
   "codemirror_mode": {
    "name": "ipython",
    "version": 3
   },
   "file_extension": ".py",
   "mimetype": "text/x-python",
   "name": "python",
   "nbconvert_exporter": "python",
   "pygments_lexer": "ipython3",
   "version": "3.8.5"
  }
 },
 "nbformat": 4,
 "nbformat_minor": 4
}
