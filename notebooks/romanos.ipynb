{
 "cells": [
  {
   "cell_type": "markdown",
   "metadata": {},
   "source": [
    "# Transforma número romano a decimal"
   ]
  },
  {
   "cell_type": "code",
   "execution_count": 13,
   "metadata": {},
   "outputs": [
    {
     "name": "stdout",
     "output_type": "stream",
     "text": [
      "ingrese numero romano XIX\n",
      "19\n"
     ]
    }
   ],
   "source": [
    "romanos = {'I':1, 'V':5, 'X':10, 'L':50, 'C':100, 'D':500, 'M':1000}\n",
    "flag = 1\n",
    "while flag:\n",
    "    n = input(\"ingrese numero romano \")\n",
    "    for i in n:\n",
    "        if i not in romanos:\n",
    "            flag = 1\n",
    "            break\n",
    "        elif i == n[-1]:\n",
    "            flag = 0\n",
    "\n",
    "suma = 0\n",
    "anterior = romanos[n[0]]\n",
    "for letra in n:\n",
    "    actual = romanos[letra]\n",
    "    if anterior >= actual:\n",
    "        # si es mayor suma el actual\n",
    "        suma += actual\n",
    "    else:\n",
    "        # sino restamos dos veces el anterior\n",
    "        # por qué??\n",
    "        suma += actual - (2 * anterior)\n",
    "    anterior = actual\n",
    "print(suma)"
   ]
  }
 ],
 "metadata": {
  "kernelspec": {
   "display_name": "Python 3",
   "language": "python",
   "name": "python3"
  },
  "language_info": {
   "codemirror_mode": {
    "name": "ipython",
    "version": 3
   },
   "file_extension": ".py",
   "mimetype": "text/x-python",
   "name": "python",
   "nbconvert_exporter": "python",
   "pygments_lexer": "ipython3",
   "version": "3.6.7"
  }
 },
 "nbformat": 4,
 "nbformat_minor": 2
}
