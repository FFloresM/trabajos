{
 "cells": [
  {
   "cell_type": "markdown",
   "metadata": {},
   "source": [
    "# Actividad\n",
    "\n",
    "En esta actividad vas a trabajar con el clasificador que está en el _notebook_ junto a esta actividad. Aquí debes usar esta clase para crear un clasificador de _spam_. En concreto se te pide lo siguiente:\n",
    "\n",
    "1. **(2.5 pts)** Crea un clasificador Naive Bayes que se entrene con los asuntos (_Subject_) del _dataset_ de correos que te presentamos. Separa el _dataset_ de tres formas: (1) 0.5 de entrenamiento y prueba; (2) 0.7 de entrenamiento y 0.3 de prueba; (3) 0.3 de entrenamiento y 0.7 de prueba. ¿Cómo se comporta el clasificador en cada uno de estos escenarios? ¿Qué puedes concluir respecto al _ratio_ entrenamiento / prueba? Para cada uno de los casos presenta la matriz de confusión.\n",
    "\n",
    "2. **(2.5 pts)** En esta parte tienes que experimentar con la precisión y el _recall_, para esto:\n",
    "  - **(1 pto)** Identifica cuál es el threshold en este caso. ¿Cómo puedes hacer un modelo más preciso? ¿Cómo puedes hacer un modelo con más _recall_? Discute cómo cambiarías el código para lograr ambas cosas.\n",
    "  - **(1.5 pts)** Prueba la precisión y el _recall_ para distintos valores del threshold y discute los resultados. Grafica la curva de precisión y _recall_ vs el threshold.\n",
    "  \n",
    "3. **(1 pto)** Supón que ahora en vez de clasificar _spam_ y _no spam_ quieres hacer un modelo que lo clasifique para distintas etiquetas. Por ejemplo, imagina que tienes una etiqueta para cada uno de tus cursos, y quieres clasificar los correos a algunas de esas etiquetas. ¿Cómo puedes extender el modelo para que sea multiclase? No es necesario mostrar código, solamente que lo expliques con tus propias palabras.\n",
    "\n",
    "4. **(0.5 pts) \\[BONUS\\]** Grafica la curva ROC del modelo para tu set de prueba. Discute los resultados.\n",
    "\n",
    "## Detalles académicos\n",
    "\n",
    "Este control pueden realizarlo en grupos de hasta dos personas. La entrega de este control debe ser un archivo comprimido donde se encuentre un **Jupyter Notebook**, junto a cualquier archivo .csv que estés llamando desde tu código. **La fecha de entrega es hasta jueves 17 de septiembre, hasta las 20:00 pm, cualquier entrega después de este plazo será calificada con la nota mínima**. La nota se calcula como el número de puntos + un punto base. El archivo comprimido se entrega en un cuestionario de Webcursos."
   ]
  },
  {
   "cell_type": "code",
   "execution_count": 129,
   "metadata": {},
   "outputs": [],
   "source": [
    "import re\n",
    "#Tokenize text\n",
    "def tokenize(text):\n",
    "    text = text.lower()                         # Pasar a minúsculas\n",
    "    all_words = re.findall(\"[a-z0-9']+\", text)  # Extraer las palabras con expresiones regulares\n",
    "    return set(all_words)                       # Con un Set no tenemos duplicados\n",
    "\n",
    "#tokenize(\"Hola! este es un mensaje de ejemplo :)\")"
   ]
  },
  {
   "cell_type": "code",
   "execution_count": 130,
   "metadata": {},
   "outputs": [],
   "source": [
    "class Mail():\n",
    "    \"\"\"Clase Mail\"\"\"\n",
    "    def __init__(self, content, is_spam):\n",
    "        self.content = content\n",
    "        self.is_spam = is_spam"
   ]
  },
  {
   "cell_type": "code",
   "execution_count": 131,
   "metadata": {},
   "outputs": [],
   "source": [
    "from collections import defaultdict # Diccionario con valores default\n",
    "import math\n",
    "\n",
    "class NaiveBayesClassifier:\n",
    "    \"\"\"Clasificador Naive Bayes\"\"\"\n",
    "    def __init__(self, k=0.5):\n",
    "        self.k = k  # smoothing factor\n",
    "\n",
    "        self.tokens = set()\n",
    "        self.token_spam_counts = defaultdict(int)\n",
    "        self.token_ham_counts = defaultdict(int)\n",
    "        self.spam_messages = 0\n",
    "        self.ham_messages = 0\n",
    "\n",
    "    # Función para entrenar\n",
    "    def fit(self, messages):\n",
    "        for message in messages:\n",
    "            # Increment message counts\n",
    "            if message.is_spam:\n",
    "                self.spam_messages += 1\n",
    "            else:\n",
    "                self.ham_messages += 1\n",
    "\n",
    "            # Increment word counts\n",
    "            for token in tokenize(message.content):\n",
    "                self.tokens.add(token)\n",
    "                if message.is_spam:\n",
    "                    self.token_spam_counts[token] += 1\n",
    "                else:\n",
    "                    self.token_ham_counts[token] += 1\n",
    "\n",
    "    # Función que calcula las probabilidades asociadas a cada palabra\n",
    "    # Si la palabra no está usaremos (1 - la probabilidad)\n",
    "    def probabilities(self, token):\n",
    "        # Retorna P(token | spam) y P(token | not spam)\n",
    "        spam = self.token_spam_counts[token]\n",
    "        ham = self.token_ham_counts[token]\n",
    "\n",
    "        p_token_spam = (spam + self.k) / (self.spam_messages + 2 * self.k)\n",
    "        p_token_ham = (ham + self.k) / (self.ham_messages + 2 * self.k)\n",
    "\n",
    "        return p_token_spam, p_token_ham\n",
    "\n",
    "    # Función para predecir un texto\n",
    "    def predict(self, text):\n",
    "        text_tokens = tokenize(text)\n",
    "        log_prob_if_spam = 0.0\n",
    "        log_prob_if_ham = 0.0\n",
    "\n",
    "        # Vemos todo nuestro vocabulario\n",
    "        for token in self.tokens:\n",
    "            prob_if_spam, prob_if_ham = self.probabilities(token)\n",
    "\n",
    "            # Si el token aparece en el mensaje sumamos el log de la probabilidad asociada\n",
    "            if token in text_tokens:\n",
    "                log_prob_if_spam += math.log(prob_if_spam)\n",
    "                log_prob_if_ham += math.log(prob_if_ham)\n",
    "\n",
    "            # En otro caso, sumamos el log de la probabilidad de no haberlo visto: log(1 - probabilidad de ver el mensaje)\n",
    "            else:\n",
    "                log_prob_if_spam += math.log(1.0 - prob_if_spam)\n",
    "                log_prob_if_ham += math.log(1.0 - prob_if_ham)\n",
    "\n",
    "        prob_if_spam = math.exp(log_prob_if_spam)\n",
    "        prob_if_ham = math.exp(log_prob_if_ham)\n",
    "        return prob_if_spam / (prob_if_spam + prob_if_ham)\n",
    "    "
   ]
  },
  {
   "cell_type": "code",
   "execution_count": 132,
   "metadata": {},
   "outputs": [],
   "source": [
    "import random\n",
    "\n",
    "# Función para hacer split de un dataset\n",
    "def split_data(data, perc):\n",
    "    data = data[:]                    # Copiamos el dataset\n",
    "    random.shuffle(data)              # porque shuffle modifica la lista, aquí la ordenamos de forma aleatoria\n",
    "    cut = int(len(data) * perc)       # Vemos hasta que posición tomamos\n",
    "    return data[:cut], data[cut:]     # Retornamos las dos partes\n",
    "\n",
    "PATH_MAILS = 'mails/*/*'\n",
    "\n",
    "data = []\n",
    "\n",
    "import glob, re\n",
    "\n",
    "# Recorremos todos los archivos\n",
    "for filename in glob.glob(PATH_MAILS):\n",
    "    # Checkeamos si es spam o no\n",
    "    is_spam = 'ham' not in filename\n",
    "    \n",
    "    # Ignoramos los posibles errores al abrir un archivo\n",
    "    with open(filename, errors='ignore') as mail_file:\n",
    "        for line in mail_file:\n",
    "            if line.startswith(\"Subject:\"):\n",
    "                # Hacemos strip desde la izquierda\n",
    "                subject = line.lstrip(\"Subject: \")\n",
    "                data.append(Mail(subject, is_spam))\n",
    "                # Después de añadir el subject terminamos\n",
    "                break"
   ]
  },
  {
   "cell_type": "markdown",
   "metadata": {},
   "source": [
    "### 1.1) 50% entrenamiento y prueba"
   ]
  },
  {
   "cell_type": "code",
   "execution_count": 133,
   "metadata": {},
   "outputs": [],
   "source": [
    "import numpy as np"
   ]
  },
  {
   "cell_type": "code",
   "execution_count": 134,
   "metadata": {},
   "outputs": [],
   "source": [
    "train_mails, test_mails = split_data(data, 0.5)"
   ]
  },
  {
   "cell_type": "code",
   "execution_count": 135,
   "metadata": {},
   "outputs": [],
   "source": [
    "model = NaiveBayesClassifier(k=0.5)\n",
    "model.fit(train_mails)"
   ]
  },
  {
   "cell_type": "code",
   "execution_count": 136,
   "metadata": {},
   "outputs": [],
   "source": [
    "prob_predict = [] #guarda probabilidades\n",
    "target = []  #guarda clase\n",
    "for mail in test_mails:\n",
    "    prob_predict.append(model.predict(mail.content))\n",
    "    target.append(mail.is_spam)"
   ]
  },
  {
   "cell_type": "code",
   "execution_count": 137,
   "metadata": {},
   "outputs": [],
   "source": [
    "y_true = np.array(target)\n",
    "y_predict = np.array(prob_predict)"
   ]
  },
  {
   "cell_type": "code",
   "execution_count": 138,
   "metadata": {},
   "outputs": [],
   "source": [
    "#Un correo será spam si la probabilidad es mayor o igual a 0.5.\n",
    "y_predict = y_predict >= 0.5"
   ]
  },
  {
   "cell_type": "code",
   "execution_count": 139,
   "metadata": {},
   "outputs": [],
   "source": [
    "from sklearn.metrics import confusion_matrix, accuracy_score, recall_score"
   ]
  },
  {
   "cell_type": "code",
   "execution_count": 140,
   "metadata": {},
   "outputs": [
    {
     "data": {
      "text/plain": [
       "array([[1355,   24],\n",
       "       [ 134,  137]])"
      ]
     },
     "execution_count": 140,
     "metadata": {},
     "output_type": "execute_result"
    }
   ],
   "source": [
    "confusion_matrix(y_true, y_predict)"
   ]
  },
  {
   "cell_type": "code",
   "execution_count": 141,
   "metadata": {},
   "outputs": [
    {
     "data": {
      "text/plain": [
       "0.9042424242424243"
      ]
     },
     "execution_count": 141,
     "metadata": {},
     "output_type": "execute_result"
    }
   ],
   "source": [
    "accuracy_score(y_true, y_predict)"
   ]
  },
  {
   "cell_type": "code",
   "execution_count": 142,
   "metadata": {},
   "outputs": [
    {
     "data": {
      "text/plain": [
       "0.5055350553505535"
      ]
     },
     "execution_count": 142,
     "metadata": {},
     "output_type": "execute_result"
    }
   ],
   "source": [
    "recall_score(y_true, y_predict)"
   ]
  },
  {
   "cell_type": "markdown",
   "metadata": {},
   "source": [
    "### 1.1) 70% entrenamiento y 30% prueba"
   ]
  },
  {
   "cell_type": "code",
   "execution_count": 143,
   "metadata": {},
   "outputs": [
    {
     "data": {
      "text/plain": [
       "array([[804,  30],\n",
       "       [ 57,  99]])"
      ]
     },
     "execution_count": 143,
     "metadata": {},
     "output_type": "execute_result"
    }
   ],
   "source": [
    "train_mails, test_mails = split_data(data, 0.7)\n",
    "model = NaiveBayesClassifier(k=0.5)\n",
    "model.fit(train_mails)\n",
    "prob_predict = [] #guarda probabilidades\n",
    "target = []  #guarda clase\n",
    "for mail in test_mails:\n",
    "    prob_predict.append(model.predict(mail.content))\n",
    "    target.append(mail.is_spam)\n",
    "y_true = np.array(target)\n",
    "y_predict = np.array(prob_predict)\n",
    "y_predict = y_predict >= 0.5\n",
    "confusion_matrix(y_true, y_predict)"
   ]
  },
  {
   "cell_type": "code",
   "execution_count": 144,
   "metadata": {},
   "outputs": [
    {
     "data": {
      "text/plain": [
       "0.6346153846153846"
      ]
     },
     "execution_count": 144,
     "metadata": {},
     "output_type": "execute_result"
    }
   ],
   "source": [
    "recall_score(y_true, y_predict)"
   ]
  },
  {
   "cell_type": "code",
   "execution_count": 145,
   "metadata": {},
   "outputs": [
    {
     "data": {
      "text/plain": [
       "0.9121212121212121"
      ]
     },
     "execution_count": 145,
     "metadata": {},
     "output_type": "execute_result"
    }
   ],
   "source": [
    "accuracy_score(y_true, y_predict)"
   ]
  },
  {
   "cell_type": "markdown",
   "metadata": {},
   "source": [
    "### 1.1) 30% entrenamiento y 70% prueba"
   ]
  },
  {
   "cell_type": "code",
   "execution_count": 146,
   "metadata": {},
   "outputs": [
    {
     "data": {
      "text/plain": [
       "array([[1937,   24],\n",
       "       [ 197,  152]])"
      ]
     },
     "execution_count": 146,
     "metadata": {},
     "output_type": "execute_result"
    }
   ],
   "source": [
    "train_mails, test_mails = split_data(data, 0.3)\n",
    "model = NaiveBayesClassifier(k=0.5)\n",
    "model.fit(train_mails)\n",
    "prob_predict = [] #guarda probabilidades\n",
    "target = []  #guarda clase\n",
    "for mail in test_mails:\n",
    "    prob_predict.append(model.predict(mail.content))\n",
    "    target.append(mail.is_spam)\n",
    "y_true = np.array(target)\n",
    "y_predict = np.array(prob_predict)\n",
    "y_predict = y_predict >= 0.5\n",
    "confusion_matrix(y_true, y_predict)"
   ]
  },
  {
   "cell_type": "code",
   "execution_count": 147,
   "metadata": {},
   "outputs": [
    {
     "data": {
      "text/plain": [
       "0.9043290043290043"
      ]
     },
     "execution_count": 147,
     "metadata": {},
     "output_type": "execute_result"
    }
   ],
   "source": [
    "accuracy_score(y_true, y_predict)"
   ]
  },
  {
   "cell_type": "code",
   "execution_count": 148,
   "metadata": {},
   "outputs": [
    {
     "data": {
      "text/plain": [
       "0.4355300859598854"
      ]
     },
     "execution_count": 148,
     "metadata": {},
     "output_type": "execute_result"
    }
   ],
   "source": [
    "recall_score(y_true, y_predict)"
   ]
  },
  {
   "cell_type": "code",
   "execution_count": 149,
   "metadata": {},
   "outputs": [],
   "source": [
    "from sklearn.model_selection import cross_val_score\n",
    "def NBC_scores(train, umbral, k=0.5):\n",
    "    train_mails, test_mails = split_data(data, train)\n",
    "    model = NaiveBayesClassifier(k)\n",
    "    model.fit(train_mails)\n",
    "    prob_predict = [] #guarda probabilidades\n",
    "    target = []  #guarda clase\n",
    "    for mail in test_mails:\n",
    "        prob_predict.append(model.predict(mail.content))\n",
    "        target.append(mail.is_spam)\n",
    "    y_true = np.array(target)\n",
    "    y_predict = np.array(prob_predict)\n",
    "    y_predict_umbral = y_predict >= umbral\n",
    "    return y_true, y_predict_umbral, y_predict"
   ]
  },
  {
   "cell_type": "markdown",
   "metadata": {},
   "source": [
    "#### ¿Cómo se comporta el clasificador en cada uno de estos escenarios? ¿Qué puedes concluir respecto al ratio entrenamiento / prueba? \n",
    "En general en los tres casos el desempeño fue de un 90%, es decir clasificó como espam correctamente el 90% de las muestras.\n",
    "Por otro lado, una influencia práctica en el tamaño de entrenamiento y prueba en este modelo para clasificar span se ve reflejado en el recall (sensibilidad) el cual obtienen mejores resultados cuando se entrena con el 70% del dataset."
   ]
  },
  {
   "cell_type": "markdown",
   "metadata": {},
   "source": [
    "### 2) Precisión y _recall_"
   ]
  },
  {
   "cell_type": "markdown",
   "metadata": {},
   "source": [
    "En los casos anterios el threshold es 0.5, lo que indica que sobre ese valor el email es spam."
   ]
  },
  {
   "cell_type": "markdown",
   "metadata": {},
   "source": [
    "* Para mejorar la precisón se bede ajustar la proporción de datos para entrenamiento y prueba, mientras que \n",
    "* Para mejorar el recall se debe ajustar el threshold (humbral de clasificación)"
   ]
  },
  {
   "cell_type": "code",
   "execution_count": 150,
   "metadata": {},
   "outputs": [
    {
     "name": "stdout",
     "output_type": "stream",
     "text": [
      "[[784  35]\n",
      " [ 59 112]] 0.9050505050505051 0.6549707602339181\n"
     ]
    }
   ],
   "source": [
    "y_true, y_predict, y_predict_values= NBC_scores(0.7,0.4)\n",
    "print(confusion_matrix(y_true, y_predict), accuracy_score(y_true, y_predict), recall_score(y_true, y_predict))"
   ]
  },
  {
   "cell_type": "code",
   "execution_count": 151,
   "metadata": {},
   "outputs": [
    {
     "name": "stdout",
     "output_type": "stream",
     "text": [
      "[[544  20]\n",
      " [ 34  62]] 0.9181818181818182 0.6458333333333334\n"
     ]
    }
   ],
   "source": [
    "y_true, y_predict, y_predict_values= NBC_scores(0.8,0.5)\n",
    "print(confusion_matrix(y_true, y_predict), accuracy_score(y_true, y_predict), recall_score(y_true, y_predict))"
   ]
  },
  {
   "cell_type": "code",
   "execution_count": 152,
   "metadata": {},
   "outputs": [
    {
     "name": "stdout",
     "output_type": "stream",
     "text": [
      "[[1371   25]\n",
      " [ 123  131]] 0.9103030303030303 0.515748031496063\n"
     ]
    }
   ],
   "source": [
    "y_true, y_predict, y_predict_values= NBC_scores(0.5,0.7)\n",
    "print(confusion_matrix(y_true, y_predict), accuracy_score(y_true, y_predict), recall_score(y_true, y_predict))"
   ]
  },
  {
   "cell_type": "markdown",
   "metadata": {},
   "source": [
    "#### Curva de precisión y recall vs el threshold."
   ]
  },
  {
   "cell_type": "code",
   "execution_count": 153,
   "metadata": {},
   "outputs": [],
   "source": [
    "from sklearn.metrics import precision_recall_curve, roc_curve, roc_auc_score\n",
    "from matplotlib import pyplot as plt\n",
    "precisions, recalls, thresholds = precision_recall_curve(y_true, y_predict_values)\n",
    "\n",
    "def plot_precision_recall_vs_threshold(precisions, recalls, thresholds):\n",
    "    plt.plot(thresholds, precisions[:-1], 'b--', label='Precision')\n",
    "    plt.plot(thresholds, recalls[:-1], 'g-', label='Recall')\n",
    "    plt.legend(fontsize=16) # Not shown in the book\n"
   ]
  },
  {
   "cell_type": "code",
   "execution_count": 154,
   "metadata": {},
   "outputs": [
    {
     "data": {
      "image/png": "[encoded data removed]",
      "text/plain": [
       "<Figure size 432x288 with 1 Axes>"
      ]
     },
     "metadata": {
      "needs_background": "light"
     },
     "output_type": "display_data"
    }
   ],
   "source": [
    "plot_precision_recall_vs_threshold(precisions, recalls, thresholds)\n",
    "plt.show()"
   ]
  },
  {
   "cell_type": "markdown",
   "metadata": {},
   "source": [
    "### 3) Clasificación multiclase"
   ]
  },
  {
   "cell_type": "markdown",
   "metadata": {},
   "source": [
    "PAra extender este modelo de clasificación binario a multiclase, entrenaría el modelo para cada uno de los mails de los cursos con su propia etiqueta.\n",
    "Luego para la clasificación de un mail nuevo, lo evalúo en cada uno de los modelos y me quedo con el clasificador que entregue el mejor score.\n",
    "Este es el enfoque _one-versus-the-rest_."
   ]
  },
  {
   "cell_type": "markdown",
   "metadata": {},
   "source": [
    "### Curva ROC"
   ]
  },
  {
   "cell_type": "code",
   "execution_count": 155,
   "metadata": {},
   "outputs": [],
   "source": [
    "fpr, tpr, thresholds = roc_curve(y_true, y_predict_values)"
   ]
  },
  {
   "cell_type": "markdown",
   "metadata": {},
   "source": [
    "La curva ROC es un gráfico que muestra el rendimiento de un modelo de clasificación en todos los umbrales de clasificación. Esta curva representa dos parámetros:\n",
    "* Tasa de verdaderos positivos\n",
    "* Tasa de falsos positivos"
   ]
  },
  {
   "cell_type": "code",
   "execution_count": 156,
   "metadata": {},
   "outputs": [
    {
     "data": {
      "image/png": "[encoded data removed]",
      "text/plain": [
       "<Figure size 432x288 with 1 Axes>"
      ]
     },
     "metadata": {
      "needs_background": "light"
     },
     "output_type": "display_data"
    }
   ],
   "source": [
    "def plot_roc_curve(fpr, tpr):\n",
    "    plt.plot(fpr, tpr, linewidth=2)\n",
    "    plt.plot([0, 1], [0, 1], 'k--')\n",
    "    plt.xlabel('FPR', fontsize=16)\n",
    "    plt.ylabel('TPR', fontsize=16) \n",
    "    \n",
    "plot_roc_curve(fpr, tpr)\n",
    "plt.show()"
   ]
  },
  {
   "cell_type": "code",
   "execution_count": 157,
   "metadata": {},
   "outputs": [
    {
     "data": {
      "text/plain": [
       "0.9197129594115923"
      ]
     },
     "execution_count": 157,
     "metadata": {},
     "output_type": "execute_result"
    }
   ],
   "source": [
    "roc_auc_score(y_true, y_predict_values)"
   ]
  },
  {
   "cell_type": "markdown",
   "metadata": {},
   "source": [
    "En este caso el área bajo la curva nos entrega un valor muy cercano a 1, lo que indica que tenemos un buen clasificador.\n",
    "Aunque podríamos obtener un mejor valor."
   ]
  }
 ],
 "metadata": {
  "kernelspec": {
   "display_name": "Python 3",
   "language": "python",
   "name": "python3"
  },
  "language_info": {
   "codemirror_mode": {
    "name": "ipython",
    "version": 3
   },
   "file_extension": ".py",
   "mimetype": "text/x-python",
   "name": "python",
   "nbconvert_exporter": "python",
   "pygments_lexer": "ipython3",
   "version": "3.8.2"
  }
 },
 "nbformat": 4,
 "nbformat_minor": 4
}
