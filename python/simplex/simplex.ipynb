{
 "cells": [
  {
   "cell_type": "code",
   "execution_count": 1,
   "metadata": {},
   "outputs": [],
   "source": [
    "import numpy as np\n",
    "#para que muestre con pocos decimales\n",
    "np.set_printoptions(suppress=True)"
   ]
  },
  {
   "cell_type": "code",
   "execution_count": 69,
   "metadata": {},
   "outputs": [],
   "source": [
    "def pibote(tabla):\n",
    "\n",
    "    #guarda el minimo valor de la primera fila\n",
    "    min_ = tabla[0,:].argmin()\n",
    "    #print(min_)\n",
    "    #determina columna pibote\n",
    "    col_pib = tabla[:,min_]#[1:]\n",
    "    # obtiene columna del lado derecho\n",
    "    col_LD = tabla[:,-1]#[1:]\n",
    "    # hace división para obtener el mínimo\n",
    "    div = col_LD//col_pib\n",
    "    #evuleve el indice dela menor fila (sin contar la fila z)\n",
    "    index_min = np.where(div == np.partition(div,1)[1])\n",
    "    #retorna el indice de fila y columna\n",
    "    return index_min, min_\n",
    "\n",
    "def ops(tabla, pib, col):\n",
    "    tabla[pib] = tabla[pib] / tabla[pib,col]\n",
    "    #itera soble todas las filas,menos la del pibote actual\n",
    "    for i in range(len(tabla)):\n",
    "        if (tabla[i] !=tabla[p]).any():\n",
    "            tabla[i] = tabla[i]-tabla[i,col]*tabla[p]\n",
    "            \n",
    "    return tabla\n",
    "    "
   ]
  },
  {
   "cell_type": "code",
   "execution_count": 75,
   "metadata": {},
   "outputs": [
    {
     "name": "stdout",
     "output_type": "stream",
     "text": [
      "Tabla incial del simplex\n",
      "[[-4000. -3000. -2000.    -0.]\n",
      " [    3.     3.     1.    24.]\n",
      " [    6.     4.     3.    60.]\n",
      " [    1.     1.     1.    12.]]\n"
     ]
    }
   ],
   "source": [
    "matriz = []\n",
    "with open('modelo.txt', 'r') as f:\n",
    "\tlineas = f.readlines()\n",
    "\tfor i in lineas:\n",
    "\t\tn = []\n",
    "\t\tfor s in i.split():\n",
    "\t\t\tif s.isdigit():\n",
    "\t\t\t\tn.append(int(s))\n",
    "\t\tmatriz.append(n)\n",
    "#agraga un cero a la primera fila -z=0\n",
    "matriz[:][0].append(0)\n",
    "#elimina el último cero de x_k > 0\n",
    "matriz.remove([0])\n",
    "#print(matriz)\n",
    "\n",
    "tabla = np.array(matriz, dtype=float)\n",
    "#multiplica por -1 la primera fila\n",
    "tabla[0,:]*=-1\n",
    "print(\"Tabla incial del simplex\")\n",
    "print(tabla)\n"
   ]
  },
  {
   "cell_type": "code",
   "execution_count": 76,
   "metadata": {},
   "outputs": [
    {
     "name": "stdout",
     "output_type": "stream",
     "text": [
      "iteración 1\n",
      "[[     0.           1000.           -666.66666667  32000.        ]\n",
      " [     1.              1.              0.33333333      8.        ]\n",
      " [     0.             -2.              1.             12.        ]\n",
      " [     0.              0.              0.66666667      4.        ]]\n",
      "iteración 2\n",
      "[[     0.   1000.      0.  36000.]\n",
      " [     1.      1.      0.      6.]\n",
      " [     0.     -2.      0.      6.]\n",
      " [     0.      0.      1.      6.]]\n"
     ]
    }
   ],
   "source": [
    "i = 1\n",
    "while True:\n",
    "    if (tabla[0,:] >= 0).all():\n",
    "        break\n",
    "    print(\"iteración\",i)\n",
    "    i+=1\n",
    "    p,c = pibote(tabla)\n",
    "    tabla = ops(tabla,p,c)\n",
    "    print(tabla)"
   ]
  }
 ],
 "metadata": {
  "kernelspec": {
   "display_name": "Python 3",
   "language": "python",
   "name": "python3"
  },
  "language_info": {
   "codemirror_mode": {
    "name": "ipython",
    "version": 3
   },
   "file_extension": ".py",
   "mimetype": "text/x-python",
   "name": "python",
   "nbconvert_exporter": "python",
   "pygments_lexer": "ipython3",
   "version": "3.6.7"
  }
 },
 "nbformat": 4,
 "nbformat_minor": 2
}
