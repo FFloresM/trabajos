{
 "cells": [
  {
   "cell_type": "code",
   "execution_count": 2,
   "metadata": {},
   "outputs": [],
   "source": [
    "import numpy as np"
   ]
  },
  {
   "cell_type": "code",
   "execution_count": 54,
   "metadata": {},
   "outputs": [],
   "source": [
    "def pibote(tabla):\n",
    "    #multiplica por -1 la primera fila\n",
    "    tabla[0,:]*=-1\n",
    "    print(tabla)\n",
    "    #guarda el minimo valor de la primera fila\n",
    "    min_ = tabla[0,:].argmin()\n",
    "    #print(min_)\n",
    "    #determina columna pibote\n",
    "    col_pib = tabla[:,min_]#[1:]\n",
    "    # obtiene columna del lado derecho\n",
    "    col_LD = tabla[:,-1]#[1:]\n",
    "    # hace división para obtener el mínimo\n",
    "    div = col_LD//col_pib\n",
    "    # obtinene el índice del mínimo\n",
    "    print(div)\n",
    "    #update numpy for use np.amin with initial argument\n",
    "    index_min = np.where(div == np.amin(div, initial=1))\n",
    "    \n",
    "    return index_min\n",
    "\n",
    "def ops(tabla, pib):\n",
    "    fila = tabla[pib,:]\n",
    "    return fila\n",
    "    "
   ]
  },
  {
   "cell_type": "code",
   "execution_count": 55,
   "metadata": {},
   "outputs": [
    {
     "name": "stdout",
     "output_type": "stream",
     "text": [
      "[[-4000 -3000 -2000     0]\n",
      " [    3     3     1    24]\n",
      " [    6     4     3    60]\n",
      " [    1     1     1    12]]\n",
      "[ 0  8 10 12]\n"
     ]
    },
    {
     "ename": "TypeError",
     "evalue": "amin() got an unexpected keyword argument 'initial'",
     "output_type": "error",
     "traceback": [
      "\u001b[1;31m---------------------------------------------------------------------------\u001b[0m",
      "\u001b[1;31mTypeError\u001b[0m                                 Traceback (most recent call last)",
      "\u001b[1;32m<ipython-input-55-8e2c5b4c6980>\u001b[0m in \u001b[0;36m<module>\u001b[1;34m()\u001b[0m\n\u001b[0;32m     15\u001b[0m \u001b[1;33m\u001b[0m\u001b[0m\n\u001b[0;32m     16\u001b[0m \u001b[0mtabla\u001b[0m \u001b[1;33m=\u001b[0m \u001b[0mnp\u001b[0m\u001b[1;33m.\u001b[0m\u001b[0marray\u001b[0m\u001b[1;33m(\u001b[0m\u001b[0mmatriz\u001b[0m\u001b[1;33m)\u001b[0m\u001b[1;33m\u001b[0m\u001b[0m\n\u001b[1;32m---> 17\u001b[1;33m \u001b[0mp\u001b[0m \u001b[1;33m=\u001b[0m \u001b[0mpibote\u001b[0m\u001b[1;33m(\u001b[0m\u001b[0mtabla\u001b[0m\u001b[1;33m)\u001b[0m\u001b[1;33m\u001b[0m\u001b[0m\n\u001b[0m\u001b[0;32m     18\u001b[0m \u001b[0mprint\u001b[0m\u001b[1;33m(\u001b[0m\u001b[0mp\u001b[0m\u001b[1;33m)\u001b[0m\u001b[1;33m\u001b[0m\u001b[0m\n\u001b[0;32m     19\u001b[0m \u001b[1;31m#ops(tabla,p)\u001b[0m\u001b[1;33m\u001b[0m\u001b[1;33m\u001b[0m\u001b[0m\n",
      "\u001b[1;32m<ipython-input-54-2168505bdd8a>\u001b[0m in \u001b[0;36mpibote\u001b[1;34m(tabla)\u001b[0m\n\u001b[0;32m     14\u001b[0m     \u001b[1;31m# obtinene el índice del mínimo\u001b[0m\u001b[1;33m\u001b[0m\u001b[1;33m\u001b[0m\u001b[0m\n\u001b[0;32m     15\u001b[0m     \u001b[0mprint\u001b[0m\u001b[1;33m(\u001b[0m\u001b[0mdiv\u001b[0m\u001b[1;33m)\u001b[0m\u001b[1;33m\u001b[0m\u001b[0m\n\u001b[1;32m---> 16\u001b[1;33m     \u001b[0mindex_min\u001b[0m \u001b[1;33m=\u001b[0m \u001b[0mnp\u001b[0m\u001b[1;33m.\u001b[0m\u001b[0mwhere\u001b[0m\u001b[1;33m(\u001b[0m\u001b[0mdiv\u001b[0m \u001b[1;33m==\u001b[0m \u001b[0mnp\u001b[0m\u001b[1;33m.\u001b[0m\u001b[0mamin\u001b[0m\u001b[1;33m(\u001b[0m\u001b[0mdiv\u001b[0m\u001b[1;33m,\u001b[0m \u001b[0minitial\u001b[0m\u001b[1;33m=\u001b[0m\u001b[1;36m1\u001b[0m\u001b[1;33m)\u001b[0m\u001b[1;33m)\u001b[0m\u001b[1;33m\u001b[0m\u001b[0m\n\u001b[0m\u001b[0;32m     17\u001b[0m \u001b[1;33m\u001b[0m\u001b[0m\n\u001b[0;32m     18\u001b[0m     \u001b[1;32mreturn\u001b[0m \u001b[0mindex_min\u001b[0m\u001b[1;33m\u001b[0m\u001b[0m\n",
      "\u001b[1;31mTypeError\u001b[0m: amin() got an unexpected keyword argument 'initial'"
     ]
    }
   ],
   "source": [
    "matriz = []\n",
    "with open('modelo.txt', 'r') as f:\n",
    "\tlineas = f.readlines()\n",
    "\tfor i in lineas:\n",
    "\t\tn = []\n",
    "\t\tfor s in i.split():\n",
    "\t\t\tif s.isdigit():\n",
    "\t\t\t\tn.append(int(s))\n",
    "\t\tmatriz.append(n)\n",
    "#agraga un cero a la primera fila -z=0\n",
    "matriz[:][0].append(0)\n",
    "#elimina el último cero \n",
    "matriz.remove([0])\n",
    "#print(matriz)\n",
    "\n",
    "tabla = np.array(matriz)\n",
    "p = pibote(tabla)\n",
    "print(p)\n",
    "#ops(tabla,p)"
   ]
  },
  {
   "cell_type": "code",
   "execution_count": 56,
   "metadata": {},
   "outputs": [
    {
     "name": "stdout",
     "output_type": "stream",
     "text": [
      "Help on function amin in module numpy.core.fromnumeric:\n",
      "\n",
      "amin(a, axis=None, out=None, keepdims=<class 'numpy._globals._NoValue'>)\n",
      "    Return the minimum of an array or minimum along an axis.\n",
      "    \n",
      "    Parameters\n",
      "    ----------\n",
      "    a : array_like\n",
      "        Input data.\n",
      "    axis : None or int or tuple of ints, optional\n",
      "        Axis or axes along which to operate.  By default, flattened input is\n",
      "        used.\n",
      "    \n",
      "        .. versionadded:: 1.7.0\n",
      "    \n",
      "        If this is a tuple of ints, the minimum is selected over multiple axes,\n",
      "        instead of a single axis or all the axes as before.\n",
      "    out : ndarray, optional\n",
      "        Alternative output array in which to place the result.  Must\n",
      "        be of the same shape and buffer length as the expected output.\n",
      "        See `doc.ufuncs` (Section \"Output arguments\") for more details.\n",
      "    \n",
      "    keepdims : bool, optional\n",
      "        If this is set to True, the axes which are reduced are left\n",
      "        in the result as dimensions with size one. With this option,\n",
      "        the result will broadcast correctly against the input array.\n",
      "    \n",
      "        If the default value is passed, then `keepdims` will not be\n",
      "        passed through to the `amin` method of sub-classes of\n",
      "        `ndarray`, however any non-default value will be.  If the\n",
      "        sub-classes `sum` method does not implement `keepdims` any\n",
      "        exceptions will be raised.\n",
      "    \n",
      "    Returns\n",
      "    -------\n",
      "    amin : ndarray or scalar\n",
      "        Minimum of `a`. If `axis` is None, the result is a scalar value.\n",
      "        If `axis` is given, the result is an array of dimension\n",
      "        ``a.ndim - 1``.\n",
      "    \n",
      "    See Also\n",
      "    --------\n",
      "    amax :\n",
      "        The maximum value of an array along a given axis, propagating any NaNs.\n",
      "    nanmin :\n",
      "        The minimum value of an array along a given axis, ignoring any NaNs.\n",
      "    minimum :\n",
      "        Element-wise minimum of two arrays, propagating any NaNs.\n",
      "    fmin :\n",
      "        Element-wise minimum of two arrays, ignoring any NaNs.\n",
      "    argmin :\n",
      "        Return the indices of the minimum values.\n",
      "    \n",
      "    nanmax, maximum, fmax\n",
      "    \n",
      "    Notes\n",
      "    -----\n",
      "    NaN values are propagated, that is if at least one item is NaN, the\n",
      "    corresponding min value will be NaN as well. To ignore NaN values\n",
      "    (MATLAB behavior), please use nanmin.\n",
      "    \n",
      "    Don't use `amin` for element-wise comparison of 2 arrays; when\n",
      "    ``a.shape[0]`` is 2, ``minimum(a[0], a[1])`` is faster than\n",
      "    ``amin(a, axis=0)``.\n",
      "    \n",
      "    Examples\n",
      "    --------\n",
      "    >>> a = np.arange(4).reshape((2,2))\n",
      "    >>> a\n",
      "    array([[0, 1],\n",
      "           [2, 3]])\n",
      "    >>> np.amin(a)           # Minimum of the flattened array\n",
      "    0\n",
      "    >>> np.amin(a, axis=0)   # Minima along the first axis\n",
      "    array([0, 1])\n",
      "    >>> np.amin(a, axis=1)   # Minima along the second axis\n",
      "    array([0, 2])\n",
      "    \n",
      "    >>> b = np.arange(5, dtype=float)\n",
      "    >>> b[2] = np.NaN\n",
      "    >>> np.amin(b)\n",
      "    nan\n",
      "    >>> np.nanmin(b)\n",
      "    0.0\n",
      "\n"
     ]
    }
   ],
   "source": [
    "help(np.amin)"
   ]
  }
 ],
 "metadata": {
  "kernelspec": {
   "display_name": "Python 3",
   "language": "python",
   "name": "python3"
  },
  "language_info": {
   "codemirror_mode": {
    "name": "ipython",
    "version": 3
   },
   "file_extension": ".py",
   "mimetype": "text/x-python",
   "name": "python",
   "nbconvert_exporter": "python",
   "pygments_lexer": "ipython3",
   "version": "3.6.4"
  }
 },
 "nbformat": 4,
 "nbformat_minor": 2
}
