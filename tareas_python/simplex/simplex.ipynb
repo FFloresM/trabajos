{
 "cells": [
  {
   "cell_type": "code",
   "execution_count": 130,
   "metadata": {},
   "outputs": [],
   "source": [
    "import numpy as np\n",
    "#para que muestre con pocos decimales\n",
    "np.set_printoptions(suppress=True)"
   ]
  },
  {
   "cell_type": "code",
   "execution_count": 149,
   "metadata": {},
   "outputs": [],
   "source": [
    "def pibote(tabla):\n",
    "    #multiplica por -1 la primera fila\n",
    "    tabla[0,:]*=-1\n",
    "    #print(tabla)\n",
    "    #guarda el minimo valor de la primera fila\n",
    "    min_ = tabla[0,:].argmin()\n",
    "    print(min_)\n",
    "    #determina columna pibote\n",
    "    col_pib = tabla[:,min_]#[1:]\n",
    "    # obtiene columna del lado derecho\n",
    "    col_LD = tabla[:,-1]#[1:]\n",
    "    # hace división para obtener el mínimo\n",
    "    div = col_LD//col_pib\n",
    "    #evuleve el indice dela menor fila (sin contar la fila z)\n",
    "    index_min = np.where(div == np.partition(div,1)[1])\n",
    "    #retorna el indice de fila y columna\n",
    "    return index_min, min_\n",
    "\n",
    "def ops(tabla, pib, col):\n",
    "    tabla[pib] = tabla[pib] / tabla[pib,0]\n",
    "    #itera soble todas las filas,menos la del pibote actual\n",
    "    for i in range(len(tabla)):\n",
    "        if (tabla[i] !=tabla[p]).any():\n",
    "            tabla[i] = tabla[i]-tabla[i,col]*tabla[p]\n",
    "            \n",
    "    return tabla\n",
    "    "
   ]
  },
  {
   "cell_type": "code",
   "execution_count": 150,
   "metadata": {},
   "outputs": [
    {
     "name": "stdout",
     "output_type": "stream",
     "text": [
      "[[ 4000.  3000.  2000.     0.]\n",
      " [    3.     3.     1.    24.]\n",
      " [    6.     4.     3.    60.]\n",
      " [    1.     1.     1.    12.]]\n",
      "0\n",
      "[[  3.   3.   1.  24.]]\n"
     ]
    },
    {
     "data": {
      "text/plain": [
       "array([[     0.   ,   1000.   ,   -666.667,  32000.   ],\n",
       "       [     1.   ,      1.   ,      0.333,      8.   ],\n",
       "       [     0.   ,     -2.   ,      1.   ,     12.   ],\n",
       "       [     0.   ,      0.   ,      0.667,      4.   ]])"
      ]
     },
     "execution_count": 150,
     "metadata": {},
     "output_type": "execute_result"
    }
   ],
   "source": [
    "matriz = []\n",
    "with open('modelo.txt', 'r') as f:\n",
    "\tlineas = f.readlines()\n",
    "\tfor i in lineas:\n",
    "\t\tn = []\n",
    "\t\tfor s in i.split():\n",
    "\t\t\tif s.isdigit():\n",
    "\t\t\t\tn.append(int(s))\n",
    "\t\tmatriz.append(n)\n",
    "#agraga un cero a la primera fila -z=0\n",
    "matriz[:][0].append(0)\n",
    "#elimina el último cero de x_k > 0\n",
    "matriz.remove([0])\n",
    "#print(matriz)\n",
    "\n",
    "tabla = np.array(matriz, dtype=float)\n",
    "print(tabla)\n",
    "p,c = pibote(tabla)\n",
    "print(tabla[p])\n",
    "ops(tabla,p,c)"
   ]
  },
  {
   "cell_type": "code",
   "execution_count": 148,
   "metadata": {},
   "outputs": [
    {
     "name": "stdout",
     "output_type": "stream",
     "text": [
      "[     0.      1000.      -666.667  32000.   ]\n",
      "[  0.  -2.   1.  12.]\n",
      "[ 0.     0.     0.667  4.   ]\n"
     ]
    }
   ],
   "source": [
    "for i in range(len(tabla)):\n",
    "    if (tabla[i]!=tabla[p]).any():\n",
    "        #for k in i:\n",
    "         #   print (k)\n",
    "        tabla[i]=tabla[i]-tabla[i,0]*tabla[p]\n",
    "        print(tabla[i])"
   ]
  },
  {
   "cell_type": "code",
   "execution_count": 146,
   "metadata": {},
   "outputs": [
    {
     "data": {
      "text/plain": [
       "array([[-4000.   , -3000.   , -2000.   ,    -0.   ],\n",
       "       [    1.   ,     1.   ,     0.333,     8.   ],\n",
       "       [    6.   ,     4.   ,     3.   ,    60.   ],\n",
       "       [    1.   ,     1.   ,     1.   ,    12.   ]])"
      ]
     },
     "execution_count": 146,
     "metadata": {},
     "output_type": "execute_result"
    }
   ],
   "source": [
    "tabla"
   ]
  }
 ],
 "metadata": {
  "kernelspec": {
   "display_name": "Python 3",
   "language": "python",
   "name": "python3"
  },
  "language_info": {
   "codemirror_mode": {
    "name": "ipython",
    "version": 3
   },
   "file_extension": ".py",
   "mimetype": "text/x-python",
   "name": "python",
   "nbconvert_exporter": "python",
   "pygments_lexer": "ipython3",
   "version": "3.6.7"
  }
 },
 "nbformat": 4,
 "nbformat_minor": 2
}
